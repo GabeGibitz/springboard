{
 "cells": [
  {
   "cell_type": "markdown",
   "metadata": {},
   "source": [
    "# Capstone Three: Predicting Cancer Using A Convolutional Neural Network"
   ]
  },
  {
   "cell_type": "markdown",
   "metadata": {},
   "source": [
    "Gabe Gibitz"
   ]
  },
  {
   "cell_type": "markdown",
   "metadata": {},
   "source": [
    "### MODEL VARIATIONS"
   ]
  },
  {
   "cell_type": "code",
   "execution_count": 4,
   "metadata": {},
   "outputs": [],
   "source": [
    "import pandas as pd\n",
    "import numpy as np\n",
    "import matplotlib.pyplot as plt\n",
    "import tensorflow as tf \n",
    "from tensorflow.keras.models import Sequential\n",
    "from tensorflow.keras.layers import Dense, Dropout, Activation, Flatten, Conv2D, MaxPooling2D\n",
    "import os\n",
    "import shutil"
   ]
  },
  {
   "cell_type": "markdown",
   "metadata": {},
   "source": [
    "**TRAIN ADDITIONAL MODELS**"
   ]
  },
  {
   "cell_type": "code",
   "execution_count": 5,
   "metadata": {},
   "outputs": [],
   "source": [
    "#Create the dataframe.\n",
    "import cv2\n",
    "\n",
    "file_list = []\n",
    "class_list = []\n",
    "\n",
    "DATADIR = \"data\"\n",
    "\n",
    "# All the categories you want your neural network to detect\n",
    "CATEGORIES = [\"0\", \"1\"]\n",
    "\n",
    "# The size of the images that your neural network will use\n",
    "IMG_SIZE = 50\n",
    "\n",
    "# Checking for all images in the data folder\n",
    "# Let's use black and white for the images to save on computing power.\n",
    "for category in CATEGORIES:\n",
    "    path = os.path.join(DATADIR, category)\n",
    "    for img in os.listdir(path):\n",
    "        img_array = cv2.imread(os.path.join(path, img), cv2.IMREAD_GRAYSCALE)\n",
    "\n",
    "training_data = []\n",
    "\n",
    "def create_training_data():\n",
    "    for category in CATEGORIES :\n",
    "        path = os.path.join(DATADIR, category)\n",
    "        class_num = CATEGORIES.index(category)\n",
    "        for img in os.listdir(path):\n",
    "            try :\n",
    "                img_array = cv2.imread(os.path.join(path, img), cv2.IMREAD_GRAYSCALE)\n",
    "                new_array = cv2.resize(img_array, (IMG_SIZE, IMG_SIZE))\n",
    "                training_data.append([new_array, class_num])\n",
    "            except Exception as e:\n",
    "                pass\n",
    "\n",
    "create_training_data()"
   ]
  },
  {
   "cell_type": "code",
   "execution_count": 22,
   "metadata": {},
   "outputs": [],
   "source": [
    "import random\n",
    "random.shuffle(training_data)\n",
    "\n",
    "X = [] #features\n",
    "y = [] #labels\n",
    "\n",
    "for features, label in training_data:\n",
    "    X.append(features)\n",
    "    y.append(label)"
   ]
  },
  {
   "cell_type": "code",
   "execution_count": 23,
   "metadata": {},
   "outputs": [
    {
     "name": "stdout",
     "output_type": "stream",
     "text": [
      "(277524, 50, 50, 1)\n",
      "(277524,)\n"
     ]
    }
   ],
   "source": [
    "X = np.array(X).reshape(-1, IMG_SIZE, IMG_SIZE, 1)\n",
    "y = np.array(y).reshape(-1)\n",
    "\n",
    "print(X.shape)\n",
    "print(y.shape)"
   ]
  },
  {
   "cell_type": "code",
   "execution_count": 24,
   "metadata": {},
   "outputs": [],
   "source": [
    "#Normailze\n",
    "X = X/255"
   ]
  },
  {
   "cell_type": "code",
   "execution_count": 25,
   "metadata": {},
   "outputs": [],
   "source": [
    "#Build the model.\n",
    "#Deleted a Convolutional Layer and went from 2 hidden layers to 1.\n",
    "model2 = Sequential()\n",
    "model2.add(Conv2D(32, (3, 3), input_shape = X.shape[1:]))\n",
    "model2.add(Activation('relu'))\n",
    "model2.add(MaxPooling2D(pool_size=(2,2)))\n",
    "\n",
    "model2.add(Conv2D(64, (3, 3)))\n",
    "model2.add(Activation(\"relu\"))\n",
    "model2.add(MaxPooling2D(pool_size=(2,2)))\n",
    "\n",
    "# 1 hidden layer\n",
    "model2.add(Flatten())\n",
    "model2.add(Dense(128))\n",
    "model2.add(Activation(\"relu\"))\n",
    "\n",
    "# The output layer with 2 neurons, for 2 classes\n",
    "model2.add(Dense(2))\n",
    "model2.add(Activation(\"softmax\"))\n",
    "\n",
    "model2.compile(loss=\"sparse_categorical_crossentropy\", optimizer=\"adam\", metrics=[\"accuracy\"])"
   ]
  },
  {
   "cell_type": "code",
   "execution_count": 26,
   "metadata": {},
   "outputs": [],
   "source": [
    "#Build the model.\n",
    "#Took out all hidden layers.\n",
    "model3 = Sequential()\n",
    "model3.add(Conv2D(32, (3, 3), input_shape = X.shape[1:]))\n",
    "model3.add(Activation('relu'))\n",
    "model3.add(MaxPooling2D(pool_size=(2,2)))\n",
    "\n",
    "model3.add(Conv2D(64, (3, 3)))\n",
    "model3.add(Activation(\"relu\"))\n",
    "model3.add(MaxPooling2D(pool_size=(2,2)))\n",
    " \n",
    "# 0 hidden layers\n",
    "\n",
    "# The output layer with 2 neurons, for 2 classes\n",
    "model3.add(Flatten())\n",
    "model3.add(Dense(2))\n",
    "model3.add(Activation(\"softmax\"))\n",
    "\n",
    "model3.compile(loss=\"sparse_categorical_crossentropy\", optimizer=\"adam\", metrics=[\"accuracy\"])"
   ]
  },
  {
   "cell_type": "code",
   "execution_count": 29,
   "metadata": {},
   "outputs": [
    {
     "name": "stdout",
     "output_type": "stream",
     "text": [
      "Train on 235895 samples, validate on 41629 samples\n",
      "Epoch 1/100\n",
      "235895/235895 [==============================] - 16s 66us/sample - loss: 0.4547 - acc: 0.7864 - val_loss: 0.4402 - val_acc: 0.8064\n",
      "Epoch 2/100\n",
      "235895/235895 [==============================] - 15s 65us/sample - loss: 0.4187 - acc: 0.8111 - val_loss: 0.4006 - val_acc: 0.8244\n",
      "Epoch 3/100\n",
      "235895/235895 [==============================] - 15s 64us/sample - loss: 0.3999 - acc: 0.8223 - val_loss: 0.4239 - val_acc: 0.8169\n",
      "Epoch 4/100\n",
      "235895/235895 [==============================] - 15s 64us/sample - loss: 0.3875 - acc: 0.8295 - val_loss: 0.4019 - val_acc: 0.8216\n",
      "Epoch 5/100\n",
      "235895/235895 [==============================] - 15s 64us/sample - loss: 0.3780 - acc: 0.8347 - val_loss: 0.3795 - val_acc: 0.8324\n",
      "Epoch 6/100\n",
      "235895/235895 [==============================] - 16s 66us/sample - loss: 0.3728 - acc: 0.8369 - val_loss: 0.3912 - val_acc: 0.8296\n",
      "Epoch 7/100\n",
      "235895/235895 [==============================] - 16s 67us/sample - loss: 0.3661 - acc: 0.8393 - val_loss: 0.4084 - val_acc: 0.8266\n",
      "Epoch 8/100\n",
      "235895/235895 [==============================] - 16s 66us/sample - loss: 0.3572 - acc: 0.8435 - val_loss: 0.3751 - val_acc: 0.8353\n",
      "Epoch 9/100\n",
      "235895/235895 [==============================] - 16s 68us/sample - loss: 0.3507 - acc: 0.8467 - val_loss: 0.3777 - val_acc: 0.8355\n",
      "Epoch 10/100\n",
      "235895/235895 [==============================] - 16s 66us/sample - loss: 0.3430 - acc: 0.8511 - val_loss: 0.3755 - val_acc: 0.8343\n",
      "Epoch 11/100\n",
      "235895/235895 [==============================] - 15s 66us/sample - loss: 0.3342 - acc: 0.8546 - val_loss: 0.3797 - val_acc: 0.8364\n",
      "Epoch 12/100\n",
      "235895/235895 [==============================] - 16s 66us/sample - loss: 0.3258 - acc: 0.8588 - val_loss: 0.3838 - val_acc: 0.8362\n",
      "Epoch 13/100\n",
      "235895/235895 [==============================] - 16s 67us/sample - loss: 0.3164 - acc: 0.8633 - val_loss: 0.4000 - val_acc: 0.8318\n",
      "Epoch 14/100\n",
      "235895/235895 [==============================] - 16s 66us/sample - loss: 0.3060 - acc: 0.8689 - val_loss: 0.3990 - val_acc: 0.8348\n",
      "Epoch 15/100\n",
      "235895/235895 [==============================] - 16s 66us/sample - loss: 0.2975 - acc: 0.8723 - val_loss: 0.4125 - val_acc: 0.8297\n",
      "Epoch 16/100\n",
      "235895/235895 [==============================] - 15s 63us/sample - loss: 0.2864 - acc: 0.8779 - val_loss: 0.4210 - val_acc: 0.8304\n",
      "Epoch 17/100\n",
      "235895/235895 [==============================] - 15s 63us/sample - loss: 0.2752 - acc: 0.8831 - val_loss: 0.4436 - val_acc: 0.8308\n",
      "Epoch 18/100\n",
      "235895/235895 [==============================] - 15s 63us/sample - loss: 0.2617 - acc: 0.8890 - val_loss: 0.4618 - val_acc: 0.8256\n",
      "Epoch 19/100\n",
      "235895/235895 [==============================] - 15s 63us/sample - loss: 0.2487 - acc: 0.8954 - val_loss: 0.4894 - val_acc: 0.8111\n",
      "Epoch 20/100\n",
      "235895/235895 [==============================] - 15s 63us/sample - loss: 0.2329 - acc: 0.9031 - val_loss: 0.5009 - val_acc: 0.8188\n",
      "Epoch 21/100\n",
      "235895/235895 [==============================] - 15s 64us/sample - loss: 0.2188 - acc: 0.9095 - val_loss: 0.5372 - val_acc: 0.8229\n",
      "Epoch 22/100\n",
      "235895/235895 [==============================] - 15s 62us/sample - loss: 0.2053 - acc: 0.9158 - val_loss: 0.5742 - val_acc: 0.8055\n",
      "Epoch 23/100\n",
      "235895/235895 [==============================] - 15s 61us/sample - loss: 0.1919 - acc: 0.9215 - val_loss: 0.6067 - val_acc: 0.8143\n",
      "Epoch 24/100\n",
      "235895/235895 [==============================] - 15s 62us/sample - loss: 0.1753 - acc: 0.9292 - val_loss: 0.6645 - val_acc: 0.8041\n",
      "Epoch 25/100\n",
      "235895/235895 [==============================] - 14s 61us/sample - loss: 0.1642 - acc: 0.9335 - val_loss: 0.6966 - val_acc: 0.8085\n",
      "Epoch 26/100\n",
      "235895/235895 [==============================] - 15s 63us/sample - loss: 0.1524 - acc: 0.9384 - val_loss: 0.7747 - val_acc: 0.8084\n",
      "Epoch 27/100\n",
      "235895/235895 [==============================] - 15s 62us/sample - loss: 0.1381 - acc: 0.9452 - val_loss: 0.8033 - val_acc: 0.8020\n",
      "Epoch 28/100\n",
      "235895/235895 [==============================] - 15s 62us/sample - loss: 0.1292 - acc: 0.9498 - val_loss: 0.8530 - val_acc: 0.8032\n",
      "Epoch 29/100\n",
      "235895/235895 [==============================] - 15s 63us/sample - loss: 0.1191 - acc: 0.9531 - val_loss: 0.9421 - val_acc: 0.8090\n",
      "Epoch 30/100\n",
      "235895/235895 [==============================] - 15s 63us/sample - loss: 0.1121 - acc: 0.9563 - val_loss: 0.9557 - val_acc: 0.7938\n",
      "Epoch 31/100\n",
      "235895/235895 [==============================] - 15s 63us/sample - loss: 0.1037 - acc: 0.9599 - val_loss: 1.0344 - val_acc: 0.7993\n",
      "Epoch 32/100\n",
      "235895/235895 [==============================] - 15s 64us/sample - loss: 0.0959 - acc: 0.9631 - val_loss: 1.0816 - val_acc: 0.7959\n",
      "Epoch 33/100\n",
      "235895/235895 [==============================] - 15s 64us/sample - loss: 0.0900 - acc: 0.9657 - val_loss: 1.1501 - val_acc: 0.8002\n",
      "Epoch 34/100\n",
      "235895/235895 [==============================] - 15s 64us/sample - loss: 0.0850 - acc: 0.9677 - val_loss: 1.2469 - val_acc: 0.8019\n",
      "Epoch 35/100\n",
      "235895/235895 [==============================] - 15s 64us/sample - loss: 0.0764 - acc: 0.9712 - val_loss: 1.2716 - val_acc: 0.8043\n",
      "Epoch 36/100\n",
      "235895/235895 [==============================] - 15s 63us/sample - loss: 0.0759 - acc: 0.9716 - val_loss: 1.2719 - val_acc: 0.7932\n",
      "Epoch 37/100\n",
      "235895/235895 [==============================] - 15s 64us/sample - loss: 0.0686 - acc: 0.9746 - val_loss: 1.3452 - val_acc: 0.7958\n",
      "Epoch 38/100\n",
      "235895/235895 [==============================] - 15s 65us/sample - loss: 0.0650 - acc: 0.9763 - val_loss: 1.4543 - val_acc: 0.7806\n",
      "Epoch 39/100\n",
      "235895/235895 [==============================] - 15s 65us/sample - loss: 0.0605 - acc: 0.9778 - val_loss: 1.4868 - val_acc: 0.8002\n",
      "Epoch 40/100\n",
      "235895/235895 [==============================] - 15s 64us/sample - loss: 0.0592 - acc: 0.9784 - val_loss: 1.5013 - val_acc: 0.7924\n",
      "Epoch 41/100\n",
      "235895/235895 [==============================] - 15s 66us/sample - loss: 0.0584 - acc: 0.9789 - val_loss: 1.5656 - val_acc: 0.7878\n",
      "Epoch 42/100\n",
      "235895/235895 [==============================] - 16s 66us/sample - loss: 0.0516 - acc: 0.9819 - val_loss: 1.6870 - val_acc: 0.8007\n",
      "Epoch 43/100\n",
      "235895/235895 [==============================] - 15s 66us/sample - loss: 0.0466 - acc: 0.9834 - val_loss: 1.7109 - val_acc: 0.7881\n",
      "Epoch 44/100\n",
      "235895/235895 [==============================] - 15s 65us/sample - loss: 0.0520 - acc: 0.9814 - val_loss: 1.7473 - val_acc: 0.7906\n",
      "Epoch 45/100\n",
      "235895/235895 [==============================] - 15s 65us/sample - loss: 0.0459 - acc: 0.9840 - val_loss: 1.7731 - val_acc: 0.7866\n",
      "Epoch 46/100\n",
      "235895/235895 [==============================] - 15s 62us/sample - loss: 0.0433 - acc: 0.9845 - val_loss: 1.8199 - val_acc: 0.7978\n",
      "Epoch 47/100\n",
      "235895/235895 [==============================] - 15s 65us/sample - loss: 0.0463 - acc: 0.9836 - val_loss: 1.9387 - val_acc: 0.7979\n",
      "Epoch 48/100\n",
      "235895/235895 [==============================] - 15s 65us/sample - loss: 0.0409 - acc: 0.9860 - val_loss: 1.9167 - val_acc: 0.7978\n",
      "Epoch 49/100\n",
      "235895/235895 [==============================] - 15s 65us/sample - loss: 0.0433 - acc: 0.9847 - val_loss: 2.0119 - val_acc: 0.8016\n",
      "Epoch 50/100\n",
      "235895/235895 [==============================] - 15s 65us/sample - loss: 0.0391 - acc: 0.9863 - val_loss: 2.0327 - val_acc: 0.7963\n",
      "Epoch 51/100\n",
      "235895/235895 [==============================] - 15s 65us/sample - loss: 0.0384 - acc: 0.9866 - val_loss: 2.0265 - val_acc: 0.7863\n",
      "Epoch 52/100\n",
      "235895/235895 [==============================] - 15s 64us/sample - loss: 0.0381 - acc: 0.9872 - val_loss: 1.9996 - val_acc: 0.7868\n",
      "Epoch 53/100\n",
      "235895/235895 [==============================] - 15s 64us/sample - loss: 0.0363 - acc: 0.9875 - val_loss: 2.1019 - val_acc: 0.7815\n",
      "Epoch 54/100\n",
      "235895/235895 [==============================] - 15s 64us/sample - loss: 0.0349 - acc: 0.9880 - val_loss: 2.2341 - val_acc: 0.7941\n",
      "Epoch 55/100\n",
      "235895/235895 [==============================] - 15s 64us/sample - loss: 0.0344 - acc: 0.9883 - val_loss: 2.2043 - val_acc: 0.7948\n",
      "Epoch 56/100\n",
      "235895/235895 [==============================] - 15s 64us/sample - loss: 0.0323 - acc: 0.9890 - val_loss: 2.2463 - val_acc: 0.7953\n",
      "Epoch 57/100\n",
      "235895/235895 [==============================] - 15s 64us/sample - loss: 0.0344 - acc: 0.9882 - val_loss: 2.2919 - val_acc: 0.7986\n",
      "Epoch 58/100\n",
      "235895/235895 [==============================] - 15s 63us/sample - loss: 0.0302 - acc: 0.9895 - val_loss: 2.4561 - val_acc: 0.7948\n",
      "Epoch 59/100\n",
      "235895/235895 [==============================] - 15s 63us/sample - loss: 0.0330 - acc: 0.9888 - val_loss: 2.3581 - val_acc: 0.7939\n",
      "Epoch 60/100\n",
      "235895/235895 [==============================] - 15s 62us/sample - loss: 0.0331 - acc: 0.9889 - val_loss: 2.4619 - val_acc: 0.7886\n",
      "Epoch 61/100\n",
      "235895/235895 [==============================] - 15s 64us/sample - loss: 0.0321 - acc: 0.9893 - val_loss: 2.4443 - val_acc: 0.7926\n",
      "Epoch 62/100\n",
      "235895/235895 [==============================] - 15s 66us/sample - loss: 0.0319 - acc: 0.9893 - val_loss: 2.3802 - val_acc: 0.7966\n",
      "Epoch 63/100\n",
      "235895/235895 [==============================] - 16s 67us/sample - loss: 0.0263 - acc: 0.9913 - val_loss: 2.4398 - val_acc: 0.7928\n",
      "Epoch 64/100\n",
      "235895/235895 [==============================] - 15s 66us/sample - loss: 0.0308 - acc: 0.9898 - val_loss: 2.5347 - val_acc: 0.7778\n",
      "Epoch 65/100\n",
      "235895/235895 [==============================] - 15s 66us/sample - loss: 0.0301 - acc: 0.9899 - val_loss: 2.5196 - val_acc: 0.7892\n",
      "Epoch 66/100\n",
      "235895/235895 [==============================] - 16s 67us/sample - loss: 0.0315 - acc: 0.9897 - val_loss: 2.5025 - val_acc: 0.7920\n",
      "Epoch 67/100\n",
      "235895/235895 [==============================] - 15s 63us/sample - loss: 0.0253 - acc: 0.9914 - val_loss: 2.6016 - val_acc: 0.7944\n",
      "Epoch 68/100\n",
      "235895/235895 [==============================] - 15s 63us/sample - loss: 0.0292 - acc: 0.9905 - val_loss: 2.5551 - val_acc: 0.7903\n",
      "Epoch 69/100\n",
      "235895/235895 [==============================] - 15s 62us/sample - loss: 0.0254 - acc: 0.9919 - val_loss: 2.6158 - val_acc: 0.7957\n",
      "Epoch 70/100\n",
      "235895/235895 [==============================] - 15s 62us/sample - loss: 0.0271 - acc: 0.9910 - val_loss: 2.6980 - val_acc: 0.7907\n",
      "Epoch 71/100\n",
      "235895/235895 [==============================] - 15s 64us/sample - loss: 0.0244 - acc: 0.9920 - val_loss: 2.7367 - val_acc: 0.7937\n",
      "Epoch 72/100\n",
      "235895/235895 [==============================] - 15s 66us/sample - loss: 0.0256 - acc: 0.9916 - val_loss: 2.7230 - val_acc: 0.7912\n",
      "Epoch 73/100\n",
      "235895/235895 [==============================] - 15s 65us/sample - loss: 0.0255 - acc: 0.9915 - val_loss: 2.8150 - val_acc: 0.7988\n",
      "Epoch 74/100\n",
      "235895/235895 [==============================] - 15s 64us/sample - loss: 0.0219 - acc: 0.9924 - val_loss: 2.9052 - val_acc: 0.7936\n",
      "Epoch 75/100\n",
      "235895/235895 [==============================] - 15s 65us/sample - loss: 0.0251 - acc: 0.9917 - val_loss: 2.7838 - val_acc: 0.7942\n",
      "Epoch 76/100\n",
      "235895/235895 [==============================] - 15s 65us/sample - loss: 0.0273 - acc: 0.9911 - val_loss: 2.7599 - val_acc: 0.7867\n",
      "Epoch 77/100\n",
      "235895/235895 [==============================] - 16s 66us/sample - loss: 0.0235 - acc: 0.9925 - val_loss: 2.9514 - val_acc: 0.7921\n",
      "Epoch 78/100\n",
      "235895/235895 [==============================] - 15s 65us/sample - loss: 0.0238 - acc: 0.9921 - val_loss: 2.8345 - val_acc: 0.7908\n",
      "Epoch 79/100\n",
      "235895/235895 [==============================] - 15s 64us/sample - loss: 0.0246 - acc: 0.9919 - val_loss: 2.9455 - val_acc: 0.7878\n",
      "Epoch 80/100\n",
      "235895/235895 [==============================] - 15s 64us/sample - loss: 0.0262 - acc: 0.9916 - val_loss: 2.9382 - val_acc: 0.7832\n",
      "Epoch 81/100\n",
      "235895/235895 [==============================] - 15s 64us/sample - loss: 0.0182 - acc: 0.9941 - val_loss: 3.0560 - val_acc: 0.7982\n",
      "Epoch 82/100\n",
      "235895/235895 [==============================] - 15s 64us/sample - loss: 0.0291 - acc: 0.9908 - val_loss: 2.8081 - val_acc: 0.7789\n",
      "Epoch 83/100\n",
      "235895/235895 [==============================] - 16s 67us/sample - loss: 0.0189 - acc: 0.9941 - val_loss: 2.9419 - val_acc: 0.7887\n",
      "Epoch 84/100\n",
      "235895/235895 [==============================] - 16s 66us/sample - loss: 0.0258 - acc: 0.9916 - val_loss: 2.9444 - val_acc: 0.7909\n",
      "Epoch 85/100\n",
      "235895/235895 [==============================] - 15s 65us/sample - loss: 0.0229 - acc: 0.9928 - val_loss: 2.9485 - val_acc: 0.7906\n",
      "Epoch 86/100\n",
      "235895/235895 [==============================] - 15s 66us/sample - loss: 0.0191 - acc: 0.9939 - val_loss: 3.1097 - val_acc: 0.7968\n",
      "Epoch 87/100\n",
      "235895/235895 [==============================] - 15s 65us/sample - loss: 0.0239 - acc: 0.9925 - val_loss: 3.0397 - val_acc: 0.7910\n",
      "Epoch 88/100\n",
      "235895/235895 [==============================] - 15s 65us/sample - loss: 0.0194 - acc: 0.9939 - val_loss: 3.0805 - val_acc: 0.7979\n",
      "Epoch 89/100\n",
      "235895/235895 [==============================] - 15s 65us/sample - loss: 0.0248 - acc: 0.9922 - val_loss: 3.0107 - val_acc: 0.7902\n",
      "Epoch 90/100\n",
      "235895/235895 [==============================] - 15s 65us/sample - loss: 0.0216 - acc: 0.9930 - val_loss: 3.0496 - val_acc: 0.7923\n",
      "Epoch 91/100\n",
      "235895/235895 [==============================] - 15s 62us/sample - loss: 0.0192 - acc: 0.9938 - val_loss: 3.0879 - val_acc: 0.7832\n",
      "Epoch 92/100\n",
      "235895/235895 [==============================] - 15s 65us/sample - loss: 0.0225 - acc: 0.9927 - val_loss: 3.0238 - val_acc: 0.7842\n",
      "Epoch 93/100\n",
      "235895/235895 [==============================] - 15s 63us/sample - loss: 0.0213 - acc: 0.9932 - val_loss: 3.1614 - val_acc: 0.7921\n",
      "Epoch 94/100\n",
      "235895/235895 [==============================] - 15s 64us/sample - loss: 0.0167 - acc: 0.9948 - val_loss: 3.1817 - val_acc: 0.7927\n",
      "Epoch 95/100\n",
      "235895/235895 [==============================] - 15s 63us/sample - loss: 0.0221 - acc: 0.9928 - val_loss: 3.1615 - val_acc: 0.7905\n",
      "Epoch 96/100\n",
      "235895/235895 [==============================] - 15s 62us/sample - loss: 0.0223 - acc: 0.9934 - val_loss: 3.2039 - val_acc: 0.7951\n",
      "Epoch 97/100\n",
      "235895/235895 [==============================] - 15s 64us/sample - loss: 0.0178 - acc: 0.9944 - val_loss: 3.1958 - val_acc: 0.7838\n",
      "Epoch 98/100\n",
      "235895/235895 [==============================] - 15s 64us/sample - loss: 0.0237 - acc: 0.9925 - val_loss: 3.1937 - val_acc: 0.7879\n",
      "Epoch 99/100\n",
      "235895/235895 [==============================] - 15s 63us/sample - loss: 0.0157 - acc: 0.9949 - val_loss: 3.4017 - val_acc: 0.7969\n",
      "Epoch 100/100\n",
      "235895/235895 [==============================] - 15s 63us/sample - loss: 0.0189 - acc: 0.9939 - val_loss: 3.2487 - val_acc: 0.7848\n"
     ]
    }
   ],
   "source": [
    "#Time to fit the model.\n",
    "fit2 = model2.fit(X, y, batch_size=200, epochs=100, validation_split=0.15)"
   ]
  },
  {
   "cell_type": "code",
   "execution_count": 31,
   "metadata": {},
   "outputs": [
    {
     "name": "stdout",
     "output_type": "stream",
     "text": [
      "Train on 235895 samples, validate on 41629 samples\n",
      "Epoch 1/50\n",
      "235895/235895 [==============================] - 14s 57us/sample - loss: 0.3631 - acc: 0.8414 - val_loss: 0.3764 - val_acc: 0.8339\n",
      "Epoch 2/50\n",
      "235895/235895 [==============================] - 14s 58us/sample - loss: 0.3618 - acc: 0.8411 - val_loss: 0.3731 - val_acc: 0.8361\n",
      "Epoch 3/50\n",
      "235895/235895 [==============================] - 13s 56us/sample - loss: 0.3607 - acc: 0.8423 - val_loss: 0.3751 - val_acc: 0.8348\n",
      "Epoch 4/50\n",
      "235895/235895 [==============================] - 13s 56us/sample - loss: 0.3600 - acc: 0.8422 - val_loss: 0.3732 - val_acc: 0.8353\n",
      "Epoch 5/50\n",
      "235895/235895 [==============================] - 13s 56us/sample - loss: 0.3596 - acc: 0.8424 - val_loss: 0.3783 - val_acc: 0.8351\n",
      "Epoch 6/50\n",
      "235895/235895 [==============================] - 13s 56us/sample - loss: 0.3585 - acc: 0.8427 - val_loss: 0.3700 - val_acc: 0.8382\n",
      "Epoch 7/50\n",
      "235895/235895 [==============================] - 13s 57us/sample - loss: 0.3565 - acc: 0.8446 - val_loss: 0.3741 - val_acc: 0.8336\n",
      "Epoch 8/50\n",
      "235895/235895 [==============================] - 13s 56us/sample - loss: 0.3560 - acc: 0.8446 - val_loss: 0.3698 - val_acc: 0.8375\n",
      "Epoch 9/50\n",
      "235895/235895 [==============================] - 13s 56us/sample - loss: 0.3560 - acc: 0.8447 - val_loss: 0.3696 - val_acc: 0.8382\n",
      "Epoch 10/50\n",
      "235895/235895 [==============================] - 13s 55us/sample - loss: 0.3532 - acc: 0.8461 - val_loss: 0.3756 - val_acc: 0.8378\n",
      "Epoch 11/50\n",
      "235895/235895 [==============================] - 13s 56us/sample - loss: 0.3521 - acc: 0.8463 - val_loss: 0.3667 - val_acc: 0.8395\n",
      "Epoch 12/50\n",
      "235895/235895 [==============================] - 13s 56us/sample - loss: 0.3507 - acc: 0.8469 - val_loss: 0.3711 - val_acc: 0.8368\n",
      "Epoch 13/50\n",
      "235895/235895 [==============================] - 13s 56us/sample - loss: 0.3504 - acc: 0.8471 - val_loss: 0.3660 - val_acc: 0.8406\n",
      "Epoch 14/50\n",
      "235895/235895 [==============================] - 13s 56us/sample - loss: 0.3494 - acc: 0.8484 - val_loss: 0.3709 - val_acc: 0.8376\n",
      "Epoch 15/50\n",
      "235895/235895 [==============================] - 13s 56us/sample - loss: 0.3490 - acc: 0.8481 - val_loss: 0.3664 - val_acc: 0.8407\n",
      "Epoch 16/50\n",
      "235895/235895 [==============================] - 13s 56us/sample - loss: 0.3479 - acc: 0.8489 - val_loss: 0.3684 - val_acc: 0.8397\n",
      "Epoch 17/50\n",
      "235895/235895 [==============================] - 13s 56us/sample - loss: 0.3471 - acc: 0.8489 - val_loss: 0.3652 - val_acc: 0.8415\n",
      "Epoch 18/50\n",
      "235895/235895 [==============================] - 13s 56us/sample - loss: 0.3458 - acc: 0.8496 - val_loss: 0.3765 - val_acc: 0.8366\n",
      "Epoch 19/50\n",
      "235895/235895 [==============================] - 13s 56us/sample - loss: 0.3456 - acc: 0.8496 - val_loss: 0.3642 - val_acc: 0.8417\n",
      "Epoch 20/50\n",
      "235895/235895 [==============================] - 13s 57us/sample - loss: 0.3445 - acc: 0.8503 - val_loss: 0.3701 - val_acc: 0.8396\n",
      "Epoch 21/50\n",
      "235895/235895 [==============================] - 13s 57us/sample - loss: 0.3439 - acc: 0.8507 - val_loss: 0.3723 - val_acc: 0.8396\n",
      "Epoch 22/50\n",
      "235895/235895 [==============================] - 13s 56us/sample - loss: 0.3431 - acc: 0.8511 - val_loss: 0.3730 - val_acc: 0.8402\n",
      "Epoch 23/50\n",
      "235895/235895 [==============================] - 13s 55us/sample - loss: 0.3439 - acc: 0.8502 - val_loss: 0.3735 - val_acc: 0.8410\n",
      "Epoch 24/50\n",
      "235895/235895 [==============================] - 13s 55us/sample - loss: 0.3420 - acc: 0.8514 - val_loss: 0.3644 - val_acc: 0.8417\n",
      "Epoch 25/50\n",
      "235895/235895 [==============================] - 13s 55us/sample - loss: 0.3411 - acc: 0.8522 - val_loss: 0.3644 - val_acc: 0.8405\n",
      "Epoch 26/50\n",
      "235895/235895 [==============================] - 13s 56us/sample - loss: 0.3407 - acc: 0.8521 - val_loss: 0.3750 - val_acc: 0.8381\n",
      "Epoch 27/50\n",
      "235895/235895 [==============================] - 13s 56us/sample - loss: 0.3400 - acc: 0.8527 - val_loss: 0.3644 - val_acc: 0.8412\n",
      "Epoch 28/50\n",
      "235895/235895 [==============================] - 13s 56us/sample - loss: 0.3393 - acc: 0.8521 - val_loss: 0.3660 - val_acc: 0.8422\n",
      "Epoch 29/50\n",
      "235895/235895 [==============================] - 13s 57us/sample - loss: 0.3387 - acc: 0.8534 - val_loss: 0.3704 - val_acc: 0.8392\n",
      "Epoch 30/50\n",
      "235895/235895 [==============================] - 13s 57us/sample - loss: 0.3385 - acc: 0.8532 - val_loss: 0.3657 - val_acc: 0.8414\n",
      "Epoch 31/50\n",
      "235895/235895 [==============================] - 13s 57us/sample - loss: 0.3381 - acc: 0.8534 - val_loss: 0.3640 - val_acc: 0.8431\n",
      "Epoch 32/50\n",
      "235895/235895 [==============================] - 13s 57us/sample - loss: 0.3373 - acc: 0.8536 - val_loss: 0.3625 - val_acc: 0.8428\n",
      "Epoch 33/50\n",
      "235895/235895 [==============================] - 14s 58us/sample - loss: 0.3374 - acc: 0.8536 - val_loss: 0.3646 - val_acc: 0.8423\n",
      "Epoch 34/50\n",
      "235895/235895 [==============================] - 13s 57us/sample - loss: 0.3366 - acc: 0.8540 - val_loss: 0.3657 - val_acc: 0.8419\n",
      "Epoch 35/50\n",
      "235895/235895 [==============================] - 13s 56us/sample - loss: 0.3365 - acc: 0.8541 - val_loss: 0.3656 - val_acc: 0.8425\n",
      "Epoch 36/50\n",
      "235895/235895 [==============================] - 14s 58us/sample - loss: 0.3359 - acc: 0.8548 - val_loss: 0.3644 - val_acc: 0.8417\n",
      "Epoch 37/50\n",
      "235895/235895 [==============================] - 13s 56us/sample - loss: 0.3354 - acc: 0.8549 - val_loss: 0.3636 - val_acc: 0.8417\n",
      "Epoch 38/50\n",
      "235895/235895 [==============================] - 13s 56us/sample - loss: 0.3350 - acc: 0.8549 - val_loss: 0.3636 - val_acc: 0.8422\n",
      "Epoch 39/50\n",
      "235895/235895 [==============================] - 13s 56us/sample - loss: 0.3346 - acc: 0.8552 - val_loss: 0.3664 - val_acc: 0.8422\n",
      "Epoch 40/50\n",
      "235895/235895 [==============================] - 13s 56us/sample - loss: 0.3342 - acc: 0.8556 - val_loss: 0.3670 - val_acc: 0.8423\n",
      "Epoch 41/50\n",
      "235895/235895 [==============================] - 13s 56us/sample - loss: 0.3341 - acc: 0.8554 - val_loss: 0.3643 - val_acc: 0.8423\n",
      "Epoch 42/50\n",
      "235895/235895 [==============================] - 13s 56us/sample - loss: 0.3337 - acc: 0.8561 - val_loss: 0.3637 - val_acc: 0.8422\n",
      "Epoch 43/50\n",
      "235895/235895 [==============================] - 13s 56us/sample - loss: 0.3332 - acc: 0.8556 - val_loss: 0.3722 - val_acc: 0.8419\n",
      "Epoch 44/50\n",
      "235895/235895 [==============================] - 13s 56us/sample - loss: 0.3326 - acc: 0.8566 - val_loss: 0.3653 - val_acc: 0.8432\n",
      "Epoch 45/50\n",
      "235895/235895 [==============================] - 13s 55us/sample - loss: 0.3329 - acc: 0.8561 - val_loss: 0.3738 - val_acc: 0.8404\n",
      "Epoch 46/50\n",
      "235895/235895 [==============================] - 13s 55us/sample - loss: 0.3320 - acc: 0.8564 - val_loss: 0.3756 - val_acc: 0.8398\n",
      "Epoch 47/50\n",
      "235895/235895 [==============================] - 13s 55us/sample - loss: 0.3319 - acc: 0.8565 - val_loss: 0.3640 - val_acc: 0.8416\n",
      "Epoch 48/50\n",
      "235895/235895 [==============================] - 13s 56us/sample - loss: 0.3312 - acc: 0.8567 - val_loss: 0.3669 - val_acc: 0.8406\n",
      "Epoch 49/50\n",
      "235895/235895 [==============================] - 13s 56us/sample - loss: 0.3311 - acc: 0.8576 - val_loss: 0.3709 - val_acc: 0.8401\n",
      "Epoch 50/50\n",
      "235895/235895 [==============================] - 13s 56us/sample - loss: 0.3309 - acc: 0.8569 - val_loss: 0.3633 - val_acc: 0.8425\n"
     ]
    }
   ],
   "source": [
    "#Time to fit the model.\n",
    "fit3 = model3.fit(X, y, batch_size=300, epochs=50, validation_split=0.15)"
   ]
  },
  {
   "cell_type": "code",
   "execution_count": null,
   "metadata": {},
   "outputs": [],
   "source": []
  },
  {
   "cell_type": "code",
   "execution_count": 33,
   "metadata": {},
   "outputs": [
    {
     "name": "stdout",
     "output_type": "stream",
     "text": [
      "dict_keys(['loss', 'acc', 'val_loss', 'val_acc'])\n"
     ]
    },
    {
     "data": {
      "text/plain": [
       "<matplotlib.legend.Legend at 0x7f26fa87c048>"
      ]
     },
     "execution_count": 33,
     "metadata": {},
     "output_type": "execute_result"
    },
    {
     "data": {
      "image/png": "[encoded data removed]",
      "text/plain": [
       "<Figure size 432x288 with 1 Axes>"
      ]
     },
     "metadata": {
      "needs_background": "light"
     },
     "output_type": "display_data"
    }
   ],
   "source": [
    "print(fit2.history.keys())\n",
    "plt.figure(1)\n",
    "plt.plot(fit2.history['acc'])\n",
    "plt.plot(fit2.history['val_acc'])\n",
    "plt.title('Model 2 Accuracy')\n",
    "plt.ylabel('accuracy')\n",
    "plt.xlabel('epoch')\n",
    "plt.legend(['train', 'validation'], loc='upper left')"
   ]
  },
  {
   "cell_type": "code",
   "execution_count": 34,
   "metadata": {},
   "outputs": [
    {
     "name": "stdout",
     "output_type": "stream",
     "text": [
      "dict_keys(['loss', 'acc', 'val_loss', 'val_acc'])\n"
     ]
    },
    {
     "data": {
      "text/plain": [
       "<matplotlib.legend.Legend at 0x7f26fa270f28>"
      ]
     },
     "execution_count": 34,
     "metadata": {},
     "output_type": "execute_result"
    },
    {
     "data": {
      "image/png": "[encoded data removed]",
      "text/plain": [
       "<Figure size 432x288 with 1 Axes>"
      ]
     },
     "metadata": {
      "needs_background": "light"
     },
     "output_type": "display_data"
    }
   ],
   "source": [
    "print(fit3.history.keys())\n",
    "plt.figure(1)\n",
    "plt.plot(fit3.history['acc'])\n",
    "plt.plot(fit3.history['val_acc'])\n",
    "plt.title('Model 3 Accuracy')\n",
    "plt.ylabel('accuracy')\n",
    "plt.xlabel('epoch')\n",
    "plt.legend(['train', 'validation'], loc='upper left')"
   ]
  },
  {
   "cell_type": "code",
   "execution_count": null,
   "metadata": {},
   "outputs": [],
   "source": []
  }
 ],
 "metadata": {
  "kernelspec": {
   "display_name": "Python 3",
   "language": "python",
   "name": "python3"
  },
  "language_info": {
   "codemirror_mode": {
    "name": "ipython",
    "version": 3
   },
   "file_extension": ".py",
   "mimetype": "text/x-python",
   "name": "python",
   "nbconvert_exporter": "python",
   "pygments_lexer": "ipython3",
   "version": "3.7.6"
  }
 },
 "nbformat": 4,
 "nbformat_minor": 4
}
